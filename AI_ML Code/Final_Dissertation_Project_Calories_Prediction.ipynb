{
  "nbformat": 4,
  "nbformat_minor": 0,
  "metadata": {
    "colab": {
      "provenance": []
    },
    "kernelspec": {
      "name": "python3",
      "display_name": "Python 3"
    },
    "language_info": {
      "name": "python"
    }
  },
  "cells": [
    {
      "cell_type": "code",
      "execution_count": 4,
      "metadata": {
        "id": "mzIAyJDY_a5M"
      },
      "outputs": [],
      "source": [
        "#import libraries\n",
        "import numpy as np\n",
        "import pandas as pd\n",
        "import matplotlib.pyplot as plt\n",
        "import seaborn as sns\n",
        "from sklearn.model_selection import train_test_split\n",
        "from sklearn.ensemble import RandomForestRegressor\n",
        "from sklearn import metrics"
      ]
    },
    {
      "cell_type": "code",
      "source": [
        "#Connect to Google Drive\n",
        "from google.colab import drive \n",
        "drive.mount ('/content/drive', force_remount=True)"
      ],
      "metadata": {
        "colab": {
          "base_uri": "https://localhost:8080/"
        },
        "id": "S1WgiewFtCv6",
        "outputId": "26717a4b-7275-4e96-af8d-6da356db0d69"
      },
      "execution_count": 3,
      "outputs": [
        {
          "output_type": "stream",
          "name": "stdout",
          "text": [
            "Mounted at /content/drive\n"
          ]
        }
      ]
    },
    {
      "cell_type": "code",
      "source": [
        "#Read csv file of calories\n",
        "calories = pd.read_csv(\"/content/drive/MyDrive/Final Dissertation Project/Calories Sheet - Data.csv\")"
      ],
      "metadata": {
        "id": "RQrdlcYrtC8y"
      },
      "execution_count": 5,
      "outputs": []
    },
    {
      "cell_type": "code",
      "source": [
        "calories.head()"
      ],
      "metadata": {
        "colab": {
          "base_uri": "https://localhost:8080/",
          "height": 206
        },
        "id": "qU8_02ULBMbi",
        "outputId": "4708e9b2-f45f-444d-f3d5-0baf9ee88090"
      },
      "execution_count": 6,
      "outputs": [
        {
          "output_type": "execute_result",
          "data": {
            "text/plain": [
              "    User_ID  Gender  Age  Height  Weight  Duration  Heart_Rate  Body_Temp  \\\n",
              "0  10001159  female   67     176      74        12         103       39.6   \n",
              "1  10005485  female   38     178      77        14          82       40.5   \n",
              "2  10006441    male   23     169      73        25         102       40.7   \n",
              "3  10007368  female   21     185      80        12         103       39.9   \n",
              "4  10008086    male   56     165      74        25          93       40.8   \n",
              "\n",
              "  Exercise_Type  Calories  \n",
              "0        Cardio        76  \n",
              "1       Machine        49  \n",
              "2        Cardio       122  \n",
              "3       Machine        65  \n",
              "4        Cardio       129  "
            ],
            "text/html": [
              "\n",
              "  <div id=\"df-1191a6ca-7f51-469d-a837-de59dc506cac\">\n",
              "    <div class=\"colab-df-container\">\n",
              "      <div>\n",
              "<style scoped>\n",
              "    .dataframe tbody tr th:only-of-type {\n",
              "        vertical-align: middle;\n",
              "    }\n",
              "\n",
              "    .dataframe tbody tr th {\n",
              "        vertical-align: top;\n",
              "    }\n",
              "\n",
              "    .dataframe thead th {\n",
              "        text-align: right;\n",
              "    }\n",
              "</style>\n",
              "<table border=\"1\" class=\"dataframe\">\n",
              "  <thead>\n",
              "    <tr style=\"text-align: right;\">\n",
              "      <th></th>\n",
              "      <th>User_ID</th>\n",
              "      <th>Gender</th>\n",
              "      <th>Age</th>\n",
              "      <th>Height</th>\n",
              "      <th>Weight</th>\n",
              "      <th>Duration</th>\n",
              "      <th>Heart_Rate</th>\n",
              "      <th>Body_Temp</th>\n",
              "      <th>Exercise_Type</th>\n",
              "      <th>Calories</th>\n",
              "    </tr>\n",
              "  </thead>\n",
              "  <tbody>\n",
              "    <tr>\n",
              "      <th>0</th>\n",
              "      <td>10001159</td>\n",
              "      <td>female</td>\n",
              "      <td>67</td>\n",
              "      <td>176</td>\n",
              "      <td>74</td>\n",
              "      <td>12</td>\n",
              "      <td>103</td>\n",
              "      <td>39.6</td>\n",
              "      <td>Cardio</td>\n",
              "      <td>76</td>\n",
              "    </tr>\n",
              "    <tr>\n",
              "      <th>1</th>\n",
              "      <td>10005485</td>\n",
              "      <td>female</td>\n",
              "      <td>38</td>\n",
              "      <td>178</td>\n",
              "      <td>77</td>\n",
              "      <td>14</td>\n",
              "      <td>82</td>\n",
              "      <td>40.5</td>\n",
              "      <td>Machine</td>\n",
              "      <td>49</td>\n",
              "    </tr>\n",
              "    <tr>\n",
              "      <th>2</th>\n",
              "      <td>10006441</td>\n",
              "      <td>male</td>\n",
              "      <td>23</td>\n",
              "      <td>169</td>\n",
              "      <td>73</td>\n",
              "      <td>25</td>\n",
              "      <td>102</td>\n",
              "      <td>40.7</td>\n",
              "      <td>Cardio</td>\n",
              "      <td>122</td>\n",
              "    </tr>\n",
              "    <tr>\n",
              "      <th>3</th>\n",
              "      <td>10007368</td>\n",
              "      <td>female</td>\n",
              "      <td>21</td>\n",
              "      <td>185</td>\n",
              "      <td>80</td>\n",
              "      <td>12</td>\n",
              "      <td>103</td>\n",
              "      <td>39.9</td>\n",
              "      <td>Machine</td>\n",
              "      <td>65</td>\n",
              "    </tr>\n",
              "    <tr>\n",
              "      <th>4</th>\n",
              "      <td>10008086</td>\n",
              "      <td>male</td>\n",
              "      <td>56</td>\n",
              "      <td>165</td>\n",
              "      <td>74</td>\n",
              "      <td>25</td>\n",
              "      <td>93</td>\n",
              "      <td>40.8</td>\n",
              "      <td>Cardio</td>\n",
              "      <td>129</td>\n",
              "    </tr>\n",
              "  </tbody>\n",
              "</table>\n",
              "</div>\n",
              "      <button class=\"colab-df-convert\" onclick=\"convertToInteractive('df-1191a6ca-7f51-469d-a837-de59dc506cac')\"\n",
              "              title=\"Convert this dataframe to an interactive table.\"\n",
              "              style=\"display:none;\">\n",
              "        \n",
              "  <svg xmlns=\"http://www.w3.org/2000/svg\" height=\"24px\"viewBox=\"0 0 24 24\"\n",
              "       width=\"24px\">\n",
              "    <path d=\"M0 0h24v24H0V0z\" fill=\"none\"/>\n",
              "    <path d=\"M18.56 5.44l.94 2.06.94-2.06 2.06-.94-2.06-.94-.94-2.06-.94 2.06-2.06.94zm-11 1L8.5 8.5l.94-2.06 2.06-.94-2.06-.94L8.5 2.5l-.94 2.06-2.06.94zm10 10l.94 2.06.94-2.06 2.06-.94-2.06-.94-.94-2.06-.94 2.06-2.06.94z\"/><path d=\"M17.41 7.96l-1.37-1.37c-.4-.4-.92-.59-1.43-.59-.52 0-1.04.2-1.43.59L10.3 9.45l-7.72 7.72c-.78.78-.78 2.05 0 2.83L4 21.41c.39.39.9.59 1.41.59.51 0 1.02-.2 1.41-.59l7.78-7.78 2.81-2.81c.8-.78.8-2.07 0-2.86zM5.41 20L4 18.59l7.72-7.72 1.47 1.35L5.41 20z\"/>\n",
              "  </svg>\n",
              "      </button>\n",
              "      \n",
              "  <style>\n",
              "    .colab-df-container {\n",
              "      display:flex;\n",
              "      flex-wrap:wrap;\n",
              "      gap: 12px;\n",
              "    }\n",
              "\n",
              "    .colab-df-convert {\n",
              "      background-color: #E8F0FE;\n",
              "      border: none;\n",
              "      border-radius: 50%;\n",
              "      cursor: pointer;\n",
              "      display: none;\n",
              "      fill: #1967D2;\n",
              "      height: 32px;\n",
              "      padding: 0 0 0 0;\n",
              "      width: 32px;\n",
              "    }\n",
              "\n",
              "    .colab-df-convert:hover {\n",
              "      background-color: #E2EBFA;\n",
              "      box-shadow: 0px 1px 2px rgba(60, 64, 67, 0.3), 0px 1px 3px 1px rgba(60, 64, 67, 0.15);\n",
              "      fill: #174EA6;\n",
              "    }\n",
              "\n",
              "    [theme=dark] .colab-df-convert {\n",
              "      background-color: #3B4455;\n",
              "      fill: #D2E3FC;\n",
              "    }\n",
              "\n",
              "    [theme=dark] .colab-df-convert:hover {\n",
              "      background-color: #434B5C;\n",
              "      box-shadow: 0px 1px 3px 1px rgba(0, 0, 0, 0.15);\n",
              "      filter: drop-shadow(0px 1px 2px rgba(0, 0, 0, 0.3));\n",
              "      fill: #FFFFFF;\n",
              "    }\n",
              "  </style>\n",
              "\n",
              "      <script>\n",
              "        const buttonEl =\n",
              "          document.querySelector('#df-1191a6ca-7f51-469d-a837-de59dc506cac button.colab-df-convert');\n",
              "        buttonEl.style.display =\n",
              "          google.colab.kernel.accessAllowed ? 'block' : 'none';\n",
              "\n",
              "        async function convertToInteractive(key) {\n",
              "          const element = document.querySelector('#df-1191a6ca-7f51-469d-a837-de59dc506cac');\n",
              "          const dataTable =\n",
              "            await google.colab.kernel.invokeFunction('convertToInteractive',\n",
              "                                                     [key], {});\n",
              "          if (!dataTable) return;\n",
              "\n",
              "          const docLinkHtml = 'Like what you see? Visit the ' +\n",
              "            '<a target=\"_blank\" href=https://colab.research.google.com/notebooks/data_table.ipynb>data table notebook</a>'\n",
              "            + ' to learn more about interactive tables.';\n",
              "          element.innerHTML = '';\n",
              "          dataTable['output_type'] = 'display_data';\n",
              "          await google.colab.output.renderOutput(dataTable, element);\n",
              "          const docLink = document.createElement('div');\n",
              "          docLink.innerHTML = docLinkHtml;\n",
              "          element.appendChild(docLink);\n",
              "        }\n",
              "      </script>\n",
              "    </div>\n",
              "  </div>\n",
              "  "
            ]
          },
          "metadata": {},
          "execution_count": 6
        }
      ]
    },
    {
      "cell_type": "code",
      "source": [
        "#check rows and coloums\n",
        "calories.shape"
      ],
      "metadata": {
        "colab": {
          "base_uri": "https://localhost:8080/"
        },
        "id": "22bO431VBOdK",
        "outputId": "ab4e6b64-bfb4-4e7f-c8fa-2f0c687dd1ff"
      },
      "execution_count": 7,
      "outputs": [
        {
          "output_type": "execute_result",
          "data": {
            "text/plain": [
              "(4319, 10)"
            ]
          },
          "metadata": {},
          "execution_count": 7
        }
      ]
    },
    {
      "cell_type": "code",
      "source": [
        "#more info about dataset\n",
        "calories.info()"
      ],
      "metadata": {
        "colab": {
          "base_uri": "https://localhost:8080/"
        },
        "id": "4m1Pxg9tBTvC",
        "outputId": "de78b9be-caec-442f-f62a-190a53c4fe40"
      },
      "execution_count": 8,
      "outputs": [
        {
          "output_type": "stream",
          "name": "stdout",
          "text": [
            "<class 'pandas.core.frame.DataFrame'>\n",
            "RangeIndex: 4319 entries, 0 to 4318\n",
            "Data columns (total 10 columns):\n",
            " #   Column         Non-Null Count  Dtype  \n",
            "---  ------         --------------  -----  \n",
            " 0   User_ID        4319 non-null   int64  \n",
            " 1   Gender         4319 non-null   object \n",
            " 2   Age            4319 non-null   int64  \n",
            " 3   Height         4319 non-null   int64  \n",
            " 4   Weight         4319 non-null   int64  \n",
            " 5   Duration       4319 non-null   int64  \n",
            " 6   Heart_Rate     4319 non-null   int64  \n",
            " 7   Body_Temp      4319 non-null   float64\n",
            " 8   Exercise_Type  4319 non-null   object \n",
            " 9   Calories       4319 non-null   int64  \n",
            "dtypes: float64(1), int64(7), object(2)\n",
            "memory usage: 337.5+ KB\n"
          ]
        }
      ]
    },
    {
      "cell_type": "code",
      "source": [
        "#check for null values\n",
        "calories.isnull().sum()"
      ],
      "metadata": {
        "colab": {
          "base_uri": "https://localhost:8080/"
        },
        "id": "0d4F_HgnBY7L",
        "outputId": "06cf87df-bdff-4e7f-83ee-4ae346a06a2a"
      },
      "execution_count": 9,
      "outputs": [
        {
          "output_type": "execute_result",
          "data": {
            "text/plain": [
              "User_ID          0\n",
              "Gender           0\n",
              "Age              0\n",
              "Height           0\n",
              "Weight           0\n",
              "Duration         0\n",
              "Heart_Rate       0\n",
              "Body_Temp        0\n",
              "Exercise_Type    0\n",
              "Calories         0\n",
              "dtype: int64"
            ]
          },
          "metadata": {},
          "execution_count": 9
        }
      ]
    },
    {
      "cell_type": "code",
      "source": [
        "#convert gender into categorical data\n",
        "#calories.replace({\"Gender\":{'male':0, 'female':1}}, inplace=True)"
      ],
      "metadata": {
        "id": "W88GD38nBfmq"
      },
      "execution_count": 10,
      "outputs": []
    },
    {
      "cell_type": "code",
      "source": [
        "#convert gender into categorical data\n",
        "#calories.replace({\"Exercise_Type\":{'Cardio':0, 'Machine':1}}, inplace=True)"
      ],
      "metadata": {
        "id": "dBCcOkr8CV5r"
      },
      "execution_count": 11,
      "outputs": []
    },
    {
      "cell_type": "code",
      "source": [
        "calories['Gender'] = pd.factorize(calories.Gender)[0]\n",
        "calories['Exercise_Type'] = pd.factorize(calories.Exercise_Type)[0]"
      ],
      "metadata": {
        "id": "tTAcVhjGKYKM"
      },
      "execution_count": 12,
      "outputs": []
    },
    {
      "cell_type": "code",
      "source": [
        "calories.head()"
      ],
      "metadata": {
        "colab": {
          "base_uri": "https://localhost:8080/",
          "height": 206
        },
        "id": "a1XFTV3iBkpi",
        "outputId": "11b7bc53-7229-404d-85d8-18450f25d9f8"
      },
      "execution_count": 13,
      "outputs": [
        {
          "output_type": "execute_result",
          "data": {
            "text/plain": [
              "    User_ID  Gender  Age  Height  Weight  Duration  Heart_Rate  Body_Temp  \\\n",
              "0  10001159       0   67     176      74        12         103       39.6   \n",
              "1  10005485       0   38     178      77        14          82       40.5   \n",
              "2  10006441       1   23     169      73        25         102       40.7   \n",
              "3  10007368       0   21     185      80        12         103       39.9   \n",
              "4  10008086       1   56     165      74        25          93       40.8   \n",
              "\n",
              "   Exercise_Type  Calories  \n",
              "0              0        76  \n",
              "1              1        49  \n",
              "2              0       122  \n",
              "3              1        65  \n",
              "4              0       129  "
            ],
            "text/html": [
              "\n",
              "  <div id=\"df-f2e04b10-dcec-4055-9797-8c4607a3bf73\">\n",
              "    <div class=\"colab-df-container\">\n",
              "      <div>\n",
              "<style scoped>\n",
              "    .dataframe tbody tr th:only-of-type {\n",
              "        vertical-align: middle;\n",
              "    }\n",
              "\n",
              "    .dataframe tbody tr th {\n",
              "        vertical-align: top;\n",
              "    }\n",
              "\n",
              "    .dataframe thead th {\n",
              "        text-align: right;\n",
              "    }\n",
              "</style>\n",
              "<table border=\"1\" class=\"dataframe\">\n",
              "  <thead>\n",
              "    <tr style=\"text-align: right;\">\n",
              "      <th></th>\n",
              "      <th>User_ID</th>\n",
              "      <th>Gender</th>\n",
              "      <th>Age</th>\n",
              "      <th>Height</th>\n",
              "      <th>Weight</th>\n",
              "      <th>Duration</th>\n",
              "      <th>Heart_Rate</th>\n",
              "      <th>Body_Temp</th>\n",
              "      <th>Exercise_Type</th>\n",
              "      <th>Calories</th>\n",
              "    </tr>\n",
              "  </thead>\n",
              "  <tbody>\n",
              "    <tr>\n",
              "      <th>0</th>\n",
              "      <td>10001159</td>\n",
              "      <td>0</td>\n",
              "      <td>67</td>\n",
              "      <td>176</td>\n",
              "      <td>74</td>\n",
              "      <td>12</td>\n",
              "      <td>103</td>\n",
              "      <td>39.6</td>\n",
              "      <td>0</td>\n",
              "      <td>76</td>\n",
              "    </tr>\n",
              "    <tr>\n",
              "      <th>1</th>\n",
              "      <td>10005485</td>\n",
              "      <td>0</td>\n",
              "      <td>38</td>\n",
              "      <td>178</td>\n",
              "      <td>77</td>\n",
              "      <td>14</td>\n",
              "      <td>82</td>\n",
              "      <td>40.5</td>\n",
              "      <td>1</td>\n",
              "      <td>49</td>\n",
              "    </tr>\n",
              "    <tr>\n",
              "      <th>2</th>\n",
              "      <td>10006441</td>\n",
              "      <td>1</td>\n",
              "      <td>23</td>\n",
              "      <td>169</td>\n",
              "      <td>73</td>\n",
              "      <td>25</td>\n",
              "      <td>102</td>\n",
              "      <td>40.7</td>\n",
              "      <td>0</td>\n",
              "      <td>122</td>\n",
              "    </tr>\n",
              "    <tr>\n",
              "      <th>3</th>\n",
              "      <td>10007368</td>\n",
              "      <td>0</td>\n",
              "      <td>21</td>\n",
              "      <td>185</td>\n",
              "      <td>80</td>\n",
              "      <td>12</td>\n",
              "      <td>103</td>\n",
              "      <td>39.9</td>\n",
              "      <td>1</td>\n",
              "      <td>65</td>\n",
              "    </tr>\n",
              "    <tr>\n",
              "      <th>4</th>\n",
              "      <td>10008086</td>\n",
              "      <td>1</td>\n",
              "      <td>56</td>\n",
              "      <td>165</td>\n",
              "      <td>74</td>\n",
              "      <td>25</td>\n",
              "      <td>93</td>\n",
              "      <td>40.8</td>\n",
              "      <td>0</td>\n",
              "      <td>129</td>\n",
              "    </tr>\n",
              "  </tbody>\n",
              "</table>\n",
              "</div>\n",
              "      <button class=\"colab-df-convert\" onclick=\"convertToInteractive('df-f2e04b10-dcec-4055-9797-8c4607a3bf73')\"\n",
              "              title=\"Convert this dataframe to an interactive table.\"\n",
              "              style=\"display:none;\">\n",
              "        \n",
              "  <svg xmlns=\"http://www.w3.org/2000/svg\" height=\"24px\"viewBox=\"0 0 24 24\"\n",
              "       width=\"24px\">\n",
              "    <path d=\"M0 0h24v24H0V0z\" fill=\"none\"/>\n",
              "    <path d=\"M18.56 5.44l.94 2.06.94-2.06 2.06-.94-2.06-.94-.94-2.06-.94 2.06-2.06.94zm-11 1L8.5 8.5l.94-2.06 2.06-.94-2.06-.94L8.5 2.5l-.94 2.06-2.06.94zm10 10l.94 2.06.94-2.06 2.06-.94-2.06-.94-.94-2.06-.94 2.06-2.06.94z\"/><path d=\"M17.41 7.96l-1.37-1.37c-.4-.4-.92-.59-1.43-.59-.52 0-1.04.2-1.43.59L10.3 9.45l-7.72 7.72c-.78.78-.78 2.05 0 2.83L4 21.41c.39.39.9.59 1.41.59.51 0 1.02-.2 1.41-.59l7.78-7.78 2.81-2.81c.8-.78.8-2.07 0-2.86zM5.41 20L4 18.59l7.72-7.72 1.47 1.35L5.41 20z\"/>\n",
              "  </svg>\n",
              "      </button>\n",
              "      \n",
              "  <style>\n",
              "    .colab-df-container {\n",
              "      display:flex;\n",
              "      flex-wrap:wrap;\n",
              "      gap: 12px;\n",
              "    }\n",
              "\n",
              "    .colab-df-convert {\n",
              "      background-color: #E8F0FE;\n",
              "      border: none;\n",
              "      border-radius: 50%;\n",
              "      cursor: pointer;\n",
              "      display: none;\n",
              "      fill: #1967D2;\n",
              "      height: 32px;\n",
              "      padding: 0 0 0 0;\n",
              "      width: 32px;\n",
              "    }\n",
              "\n",
              "    .colab-df-convert:hover {\n",
              "      background-color: #E2EBFA;\n",
              "      box-shadow: 0px 1px 2px rgba(60, 64, 67, 0.3), 0px 1px 3px 1px rgba(60, 64, 67, 0.15);\n",
              "      fill: #174EA6;\n",
              "    }\n",
              "\n",
              "    [theme=dark] .colab-df-convert {\n",
              "      background-color: #3B4455;\n",
              "      fill: #D2E3FC;\n",
              "    }\n",
              "\n",
              "    [theme=dark] .colab-df-convert:hover {\n",
              "      background-color: #434B5C;\n",
              "      box-shadow: 0px 1px 3px 1px rgba(0, 0, 0, 0.15);\n",
              "      filter: drop-shadow(0px 1px 2px rgba(0, 0, 0, 0.3));\n",
              "      fill: #FFFFFF;\n",
              "    }\n",
              "  </style>\n",
              "\n",
              "      <script>\n",
              "        const buttonEl =\n",
              "          document.querySelector('#df-f2e04b10-dcec-4055-9797-8c4607a3bf73 button.colab-df-convert');\n",
              "        buttonEl.style.display =\n",
              "          google.colab.kernel.accessAllowed ? 'block' : 'none';\n",
              "\n",
              "        async function convertToInteractive(key) {\n",
              "          const element = document.querySelector('#df-f2e04b10-dcec-4055-9797-8c4607a3bf73');\n",
              "          const dataTable =\n",
              "            await google.colab.kernel.invokeFunction('convertToInteractive',\n",
              "                                                     [key], {});\n",
              "          if (!dataTable) return;\n",
              "\n",
              "          const docLinkHtml = 'Like what you see? Visit the ' +\n",
              "            '<a target=\"_blank\" href=https://colab.research.google.com/notebooks/data_table.ipynb>data table notebook</a>'\n",
              "            + ' to learn more about interactive tables.';\n",
              "          element.innerHTML = '';\n",
              "          dataTable['output_type'] = 'display_data';\n",
              "          await google.colab.output.renderOutput(dataTable, element);\n",
              "          const docLink = document.createElement('div');\n",
              "          docLink.innerHTML = docLinkHtml;\n",
              "          element.appendChild(docLink);\n",
              "        }\n",
              "      </script>\n",
              "    </div>\n",
              "  </div>\n",
              "  "
            ]
          },
          "metadata": {},
          "execution_count": 13
        }
      ]
    },
    {
      "cell_type": "code",
      "source": [
        "calories.describe()"
      ],
      "metadata": {
        "colab": {
          "base_uri": "https://localhost:8080/",
          "height": 300
        },
        "id": "eMJNafF3Bnt6",
        "outputId": "f2ea8c4c-a5fd-4c6d-9529-9ea0546c01c0"
      },
      "execution_count": 14,
      "outputs": [
        {
          "output_type": "execute_result",
          "data": {
            "text/plain": [
              "            User_ID       Gender          Age       Height       Weight  \\\n",
              "count  4.319000e+03  4319.000000  4319.000000  4319.000000  4319.000000   \n",
              "mean   1.429595e+07     0.560083    42.669136   176.827043    77.376013   \n",
              "std    2.598391e+06     0.496434    16.483814    12.516185    13.448229   \n",
              "min    1.000116e+07     0.000000    21.000000   147.000000    56.000000   \n",
              "25%    1.204210e+07     0.000000    28.000000   167.000000    66.000000   \n",
              "50%    1.418591e+07     1.000000    39.000000   176.000000    77.000000   \n",
              "75%    1.633527e+07     1.000000    55.000000   186.000000    88.000000   \n",
              "max    1.999858e+07     1.000000    79.000000   213.000000   124.000000   \n",
              "\n",
              "          Duration   Heart_Rate    Body_Temp  Exercise_Type     Calories  \n",
              "count  4319.000000  4319.000000  4319.000000    4319.000000  4319.000000  \n",
              "mean     16.742996    96.468164    40.257837       0.499884    93.116925  \n",
              "std       5.933957     7.736953     0.393566       0.500058    51.320917  \n",
              "min      10.000000    77.000000    39.200000       0.000000    18.000000  \n",
              "25%      12.000000    91.000000    40.000000       0.000000    55.000000  \n",
              "50%      15.000000    96.000000    40.200000       0.000000    71.000000  \n",
              "75%      21.000000   102.000000    40.600000       1.000000   127.000000  \n",
              "max      30.000000   125.000000    41.500000       1.000000   314.000000  "
            ],
            "text/html": [
              "\n",
              "  <div id=\"df-723aac28-3b62-4d3e-ae8e-b14f2098b6a3\">\n",
              "    <div class=\"colab-df-container\">\n",
              "      <div>\n",
              "<style scoped>\n",
              "    .dataframe tbody tr th:only-of-type {\n",
              "        vertical-align: middle;\n",
              "    }\n",
              "\n",
              "    .dataframe tbody tr th {\n",
              "        vertical-align: top;\n",
              "    }\n",
              "\n",
              "    .dataframe thead th {\n",
              "        text-align: right;\n",
              "    }\n",
              "</style>\n",
              "<table border=\"1\" class=\"dataframe\">\n",
              "  <thead>\n",
              "    <tr style=\"text-align: right;\">\n",
              "      <th></th>\n",
              "      <th>User_ID</th>\n",
              "      <th>Gender</th>\n",
              "      <th>Age</th>\n",
              "      <th>Height</th>\n",
              "      <th>Weight</th>\n",
              "      <th>Duration</th>\n",
              "      <th>Heart_Rate</th>\n",
              "      <th>Body_Temp</th>\n",
              "      <th>Exercise_Type</th>\n",
              "      <th>Calories</th>\n",
              "    </tr>\n",
              "  </thead>\n",
              "  <tbody>\n",
              "    <tr>\n",
              "      <th>count</th>\n",
              "      <td>4.319000e+03</td>\n",
              "      <td>4319.000000</td>\n",
              "      <td>4319.000000</td>\n",
              "      <td>4319.000000</td>\n",
              "      <td>4319.000000</td>\n",
              "      <td>4319.000000</td>\n",
              "      <td>4319.000000</td>\n",
              "      <td>4319.000000</td>\n",
              "      <td>4319.000000</td>\n",
              "      <td>4319.000000</td>\n",
              "    </tr>\n",
              "    <tr>\n",
              "      <th>mean</th>\n",
              "      <td>1.429595e+07</td>\n",
              "      <td>0.560083</td>\n",
              "      <td>42.669136</td>\n",
              "      <td>176.827043</td>\n",
              "      <td>77.376013</td>\n",
              "      <td>16.742996</td>\n",
              "      <td>96.468164</td>\n",
              "      <td>40.257837</td>\n",
              "      <td>0.499884</td>\n",
              "      <td>93.116925</td>\n",
              "    </tr>\n",
              "    <tr>\n",
              "      <th>std</th>\n",
              "      <td>2.598391e+06</td>\n",
              "      <td>0.496434</td>\n",
              "      <td>16.483814</td>\n",
              "      <td>12.516185</td>\n",
              "      <td>13.448229</td>\n",
              "      <td>5.933957</td>\n",
              "      <td>7.736953</td>\n",
              "      <td>0.393566</td>\n",
              "      <td>0.500058</td>\n",
              "      <td>51.320917</td>\n",
              "    </tr>\n",
              "    <tr>\n",
              "      <th>min</th>\n",
              "      <td>1.000116e+07</td>\n",
              "      <td>0.000000</td>\n",
              "      <td>21.000000</td>\n",
              "      <td>147.000000</td>\n",
              "      <td>56.000000</td>\n",
              "      <td>10.000000</td>\n",
              "      <td>77.000000</td>\n",
              "      <td>39.200000</td>\n",
              "      <td>0.000000</td>\n",
              "      <td>18.000000</td>\n",
              "    </tr>\n",
              "    <tr>\n",
              "      <th>25%</th>\n",
              "      <td>1.204210e+07</td>\n",
              "      <td>0.000000</td>\n",
              "      <td>28.000000</td>\n",
              "      <td>167.000000</td>\n",
              "      <td>66.000000</td>\n",
              "      <td>12.000000</td>\n",
              "      <td>91.000000</td>\n",
              "      <td>40.000000</td>\n",
              "      <td>0.000000</td>\n",
              "      <td>55.000000</td>\n",
              "    </tr>\n",
              "    <tr>\n",
              "      <th>50%</th>\n",
              "      <td>1.418591e+07</td>\n",
              "      <td>1.000000</td>\n",
              "      <td>39.000000</td>\n",
              "      <td>176.000000</td>\n",
              "      <td>77.000000</td>\n",
              "      <td>15.000000</td>\n",
              "      <td>96.000000</td>\n",
              "      <td>40.200000</td>\n",
              "      <td>0.000000</td>\n",
              "      <td>71.000000</td>\n",
              "    </tr>\n",
              "    <tr>\n",
              "      <th>75%</th>\n",
              "      <td>1.633527e+07</td>\n",
              "      <td>1.000000</td>\n",
              "      <td>55.000000</td>\n",
              "      <td>186.000000</td>\n",
              "      <td>88.000000</td>\n",
              "      <td>21.000000</td>\n",
              "      <td>102.000000</td>\n",
              "      <td>40.600000</td>\n",
              "      <td>1.000000</td>\n",
              "      <td>127.000000</td>\n",
              "    </tr>\n",
              "    <tr>\n",
              "      <th>max</th>\n",
              "      <td>1.999858e+07</td>\n",
              "      <td>1.000000</td>\n",
              "      <td>79.000000</td>\n",
              "      <td>213.000000</td>\n",
              "      <td>124.000000</td>\n",
              "      <td>30.000000</td>\n",
              "      <td>125.000000</td>\n",
              "      <td>41.500000</td>\n",
              "      <td>1.000000</td>\n",
              "      <td>314.000000</td>\n",
              "    </tr>\n",
              "  </tbody>\n",
              "</table>\n",
              "</div>\n",
              "      <button class=\"colab-df-convert\" onclick=\"convertToInteractive('df-723aac28-3b62-4d3e-ae8e-b14f2098b6a3')\"\n",
              "              title=\"Convert this dataframe to an interactive table.\"\n",
              "              style=\"display:none;\">\n",
              "        \n",
              "  <svg xmlns=\"http://www.w3.org/2000/svg\" height=\"24px\"viewBox=\"0 0 24 24\"\n",
              "       width=\"24px\">\n",
              "    <path d=\"M0 0h24v24H0V0z\" fill=\"none\"/>\n",
              "    <path d=\"M18.56 5.44l.94 2.06.94-2.06 2.06-.94-2.06-.94-.94-2.06-.94 2.06-2.06.94zm-11 1L8.5 8.5l.94-2.06 2.06-.94-2.06-.94L8.5 2.5l-.94 2.06-2.06.94zm10 10l.94 2.06.94-2.06 2.06-.94-2.06-.94-.94-2.06-.94 2.06-2.06.94z\"/><path d=\"M17.41 7.96l-1.37-1.37c-.4-.4-.92-.59-1.43-.59-.52 0-1.04.2-1.43.59L10.3 9.45l-7.72 7.72c-.78.78-.78 2.05 0 2.83L4 21.41c.39.39.9.59 1.41.59.51 0 1.02-.2 1.41-.59l7.78-7.78 2.81-2.81c.8-.78.8-2.07 0-2.86zM5.41 20L4 18.59l7.72-7.72 1.47 1.35L5.41 20z\"/>\n",
              "  </svg>\n",
              "      </button>\n",
              "      \n",
              "  <style>\n",
              "    .colab-df-container {\n",
              "      display:flex;\n",
              "      flex-wrap:wrap;\n",
              "      gap: 12px;\n",
              "    }\n",
              "\n",
              "    .colab-df-convert {\n",
              "      background-color: #E8F0FE;\n",
              "      border: none;\n",
              "      border-radius: 50%;\n",
              "      cursor: pointer;\n",
              "      display: none;\n",
              "      fill: #1967D2;\n",
              "      height: 32px;\n",
              "      padding: 0 0 0 0;\n",
              "      width: 32px;\n",
              "    }\n",
              "\n",
              "    .colab-df-convert:hover {\n",
              "      background-color: #E2EBFA;\n",
              "      box-shadow: 0px 1px 2px rgba(60, 64, 67, 0.3), 0px 1px 3px 1px rgba(60, 64, 67, 0.15);\n",
              "      fill: #174EA6;\n",
              "    }\n",
              "\n",
              "    [theme=dark] .colab-df-convert {\n",
              "      background-color: #3B4455;\n",
              "      fill: #D2E3FC;\n",
              "    }\n",
              "\n",
              "    [theme=dark] .colab-df-convert:hover {\n",
              "      background-color: #434B5C;\n",
              "      box-shadow: 0px 1px 3px 1px rgba(0, 0, 0, 0.15);\n",
              "      filter: drop-shadow(0px 1px 2px rgba(0, 0, 0, 0.3));\n",
              "      fill: #FFFFFF;\n",
              "    }\n",
              "  </style>\n",
              "\n",
              "      <script>\n",
              "        const buttonEl =\n",
              "          document.querySelector('#df-723aac28-3b62-4d3e-ae8e-b14f2098b6a3 button.colab-df-convert');\n",
              "        buttonEl.style.display =\n",
              "          google.colab.kernel.accessAllowed ? 'block' : 'none';\n",
              "\n",
              "        async function convertToInteractive(key) {\n",
              "          const element = document.querySelector('#df-723aac28-3b62-4d3e-ae8e-b14f2098b6a3');\n",
              "          const dataTable =\n",
              "            await google.colab.kernel.invokeFunction('convertToInteractive',\n",
              "                                                     [key], {});\n",
              "          if (!dataTable) return;\n",
              "\n",
              "          const docLinkHtml = 'Like what you see? Visit the ' +\n",
              "            '<a target=\"_blank\" href=https://colab.research.google.com/notebooks/data_table.ipynb>data table notebook</a>'\n",
              "            + ' to learn more about interactive tables.';\n",
              "          element.innerHTML = '';\n",
              "          dataTable['output_type'] = 'display_data';\n",
              "          await google.colab.output.renderOutput(dataTable, element);\n",
              "          const docLink = document.createElement('div');\n",
              "          docLink.innerHTML = docLinkHtml;\n",
              "          element.appendChild(docLink);\n",
              "        }\n",
              "      </script>\n",
              "    </div>\n",
              "  </div>\n",
              "  "
            ]
          },
          "metadata": {},
          "execution_count": 14
        }
      ]
    },
    {
      "cell_type": "code",
      "source": [
        "calories.info()"
      ],
      "metadata": {
        "colab": {
          "base_uri": "https://localhost:8080/"
        },
        "id": "xcr2u0pe7B0N",
        "outputId": "cee3e1a3-e9a3-4699-e3e5-375f1b422e06"
      },
      "execution_count": 15,
      "outputs": [
        {
          "output_type": "stream",
          "name": "stdout",
          "text": [
            "<class 'pandas.core.frame.DataFrame'>\n",
            "RangeIndex: 4319 entries, 0 to 4318\n",
            "Data columns (total 10 columns):\n",
            " #   Column         Non-Null Count  Dtype  \n",
            "---  ------         --------------  -----  \n",
            " 0   User_ID        4319 non-null   int64  \n",
            " 1   Gender         4319 non-null   int64  \n",
            " 2   Age            4319 non-null   int64  \n",
            " 3   Height         4319 non-null   int64  \n",
            " 4   Weight         4319 non-null   int64  \n",
            " 5   Duration       4319 non-null   int64  \n",
            " 6   Heart_Rate     4319 non-null   int64  \n",
            " 7   Body_Temp      4319 non-null   float64\n",
            " 8   Exercise_Type  4319 non-null   int64  \n",
            " 9   Calories       4319 non-null   int64  \n",
            "dtypes: float64(1), int64(9)\n",
            "memory usage: 337.5 KB\n"
          ]
        }
      ]
    },
    {
      "cell_type": "code",
      "source": [
        "# finding correlation\n",
        "correlation = calories.corr()"
      ],
      "metadata": {
        "id": "4f6aFHZtBxNC"
      },
      "execution_count": 16,
      "outputs": []
    },
    {
      "cell_type": "code",
      "source": [
        "plt.figure(figsize=(10,10))\n",
        "sns.heatmap(correlation, cbar=True, square=True, fmt='.1f', annot=True, annot_kws={'size':8}, cmap= 'Reds')"
      ],
      "metadata": {
        "colab": {
          "base_uri": "https://localhost:8080/",
          "height": 860
        },
        "id": "_S_8EeB4B86q",
        "outputId": "2d1cf16f-b548-44f5-8b0e-69395d241b75"
      },
      "execution_count": 17,
      "outputs": [
        {
          "output_type": "execute_result",
          "data": {
            "text/plain": [
              "<Axes: >"
            ]
          },
          "metadata": {},
          "execution_count": 17
        },
        {
          "output_type": "display_data",
          "data": {
            "text/plain": [
              "<Figure size 1000x1000 with 2 Axes>"
            ],
            "image/png": "[encoded data removed]"
          },
          "metadata": {}
        }
      ]
    },
    {
      "cell_type": "code",
      "source": [
        "#seprating features and label\n",
        "X = calories.drop(columns=['User_ID', 'Calories'], axis=1)\n",
        "Y = calories['Calories']"
      ],
      "metadata": {
        "id": "K30T2DltH4z5"
      },
      "execution_count": 18,
      "outputs": []
    },
    {
      "cell_type": "code",
      "source": [
        "print(X)"
      ],
      "metadata": {
        "colab": {
          "base_uri": "https://localhost:8080/"
        },
        "id": "YN2WjZWhH8JA",
        "outputId": "36eb23ef-5afd-4407-b301-1fc0681b826f"
      },
      "execution_count": 19,
      "outputs": [
        {
          "output_type": "stream",
          "name": "stdout",
          "text": [
            "      Gender  Age  Height  Weight  Duration  Heart_Rate  Body_Temp  \\\n",
            "0          0   67     176      74        12         103       39.6   \n",
            "1          0   38     178      77        14          82       40.5   \n",
            "2          1   23     169      73        25         102       40.7   \n",
            "3          0   21     185      80        12         103       39.9   \n",
            "4          1   56     165      74        25          93       40.8   \n",
            "...      ...  ...     ...     ...       ...         ...        ...   \n",
            "4314       0   32     150      57        19          96       40.3   \n",
            "4315       0   36     170      65        12          93       40.1   \n",
            "4316       1   36     205     112        22         107       40.9   \n",
            "4317       1   38     164      73        14          91       40.1   \n",
            "4318       1   22     185      80        27         112       40.7   \n",
            "\n",
            "      Exercise_Type  \n",
            "0                 0  \n",
            "1                 1  \n",
            "2                 0  \n",
            "3                 1  \n",
            "4                 0  \n",
            "...             ...  \n",
            "4314              0  \n",
            "4315              1  \n",
            "4316              0  \n",
            "4317              1  \n",
            "4318              0  \n",
            "\n",
            "[4319 rows x 8 columns]\n"
          ]
        }
      ]
    },
    {
      "cell_type": "code",
      "source": [
        "print(Y)"
      ],
      "metadata": {
        "colab": {
          "base_uri": "https://localhost:8080/"
        },
        "id": "TDBAZ33fH--g",
        "outputId": "f9c98e97-6950-4250-b8fb-e6bb5cde2b5a"
      },
      "execution_count": 20,
      "outputs": [
        {
          "output_type": "stream",
          "name": "stdout",
          "text": [
            "0        76\n",
            "1        49\n",
            "2       122\n",
            "3        65\n",
            "4       129\n",
            "       ... \n",
            "4314     98\n",
            "4315     58\n",
            "4316    157\n",
            "4317     55\n",
            "4318    176\n",
            "Name: Calories, Length: 4319, dtype: int64\n"
          ]
        }
      ]
    },
    {
      "cell_type": "code",
      "source": [
        "#train and texting data\n",
        "X_train, X_test, Y_train, Y_test = train_test_split(X, Y, test_size=0.2, random_state=2)"
      ],
      "metadata": {
        "id": "0BDFr9k-IFr4"
      },
      "execution_count": 21,
      "outputs": []
    },
    {
      "cell_type": "code",
      "source": [
        "print(X_train.shape, X_test.shape, Y_train.shape, Y_test.shape)"
      ],
      "metadata": {
        "colab": {
          "base_uri": "https://localhost:8080/"
        },
        "id": "k2tlUMRUIP_4",
        "outputId": "90b08eff-a5d1-4443-95b6-4f637d93345a"
      },
      "execution_count": 22,
      "outputs": [
        {
          "output_type": "stream",
          "name": "stdout",
          "text": [
            "(3455, 8) (864, 8) (3455,) (864,)\n"
          ]
        }
      ]
    },
    {
      "cell_type": "code",
      "source": [
        "#model training\n",
        "model = RandomForestRegressor()\n",
        "#(n_estimators = 1000 , max_features = 3 , max_depth = 6)"
      ],
      "metadata": {
        "id": "HUfL-KbeIeiQ"
      },
      "execution_count": 23,
      "outputs": []
    },
    {
      "cell_type": "code",
      "source": [
        "model.fit(X_train, Y_train)"
      ],
      "metadata": {
        "colab": {
          "base_uri": "https://localhost:8080/",
          "height": 74
        },
        "id": "aNNOgGeZItWw",
        "outputId": "117fdd38-50e5-446a-a216-51685783fd18"
      },
      "execution_count": 24,
      "outputs": [
        {
          "output_type": "execute_result",
          "data": {
            "text/plain": [
              "RandomForestRegressor()"
            ],
            "text/html": [
              "<style>#sk-container-id-1 {color: black;background-color: white;}#sk-container-id-1 pre{padding: 0;}#sk-container-id-1 div.sk-toggleable {background-color: white;}#sk-container-id-1 label.sk-toggleable__label {cursor: pointer;display: block;width: 100%;margin-bottom: 0;padding: 0.3em;box-sizing: border-box;text-align: center;}#sk-container-id-1 label.sk-toggleable__label-arrow:before {content: \"▸\";float: left;margin-right: 0.25em;color: #696969;}#sk-container-id-1 label.sk-toggleable__label-arrow:hover:before {color: black;}#sk-container-id-1 div.sk-estimator:hover label.sk-toggleable__label-arrow:before {color: black;}#sk-container-id-1 div.sk-toggleable__content {max-height: 0;max-width: 0;overflow: hidden;text-align: left;background-color: #f0f8ff;}#sk-container-id-1 div.sk-toggleable__content pre {margin: 0.2em;color: black;border-radius: 0.25em;background-color: #f0f8ff;}#sk-container-id-1 input.sk-toggleable__control:checked~div.sk-toggleable__content {max-height: 200px;max-width: 100%;overflow: auto;}#sk-container-id-1 input.sk-toggleable__control:checked~label.sk-toggleable__label-arrow:before {content: \"▾\";}#sk-container-id-1 div.sk-estimator input.sk-toggleable__control:checked~label.sk-toggleable__label {background-color: #d4ebff;}#sk-container-id-1 div.sk-label input.sk-toggleable__control:checked~label.sk-toggleable__label {background-color: #d4ebff;}#sk-container-id-1 input.sk-hidden--visually {border: 0;clip: rect(1px 1px 1px 1px);clip: rect(1px, 1px, 1px, 1px);height: 1px;margin: -1px;overflow: hidden;padding: 0;position: absolute;width: 1px;}#sk-container-id-1 div.sk-estimator {font-family: monospace;background-color: #f0f8ff;border: 1px dotted black;border-radius: 0.25em;box-sizing: border-box;margin-bottom: 0.5em;}#sk-container-id-1 div.sk-estimator:hover {background-color: #d4ebff;}#sk-container-id-1 div.sk-parallel-item::after {content: \"\";width: 100%;border-bottom: 1px solid gray;flex-grow: 1;}#sk-container-id-1 div.sk-label:hover label.sk-toggleable__label {background-color: #d4ebff;}#sk-container-id-1 div.sk-serial::before {content: \"\";position: absolute;border-left: 1px solid gray;box-sizing: border-box;top: 0;bottom: 0;left: 50%;z-index: 0;}#sk-container-id-1 div.sk-serial {display: flex;flex-direction: column;align-items: center;background-color: white;padding-right: 0.2em;padding-left: 0.2em;position: relative;}#sk-container-id-1 div.sk-item {position: relative;z-index: 1;}#sk-container-id-1 div.sk-parallel {display: flex;align-items: stretch;justify-content: center;background-color: white;position: relative;}#sk-container-id-1 div.sk-item::before, #sk-container-id-1 div.sk-parallel-item::before {content: \"\";position: absolute;border-left: 1px solid gray;box-sizing: border-box;top: 0;bottom: 0;left: 50%;z-index: -1;}#sk-container-id-1 div.sk-parallel-item {display: flex;flex-direction: column;z-index: 1;position: relative;background-color: white;}#sk-container-id-1 div.sk-parallel-item:first-child::after {align-self: flex-end;width: 50%;}#sk-container-id-1 div.sk-parallel-item:last-child::after {align-self: flex-start;width: 50%;}#sk-container-id-1 div.sk-parallel-item:only-child::after {width: 0;}#sk-container-id-1 div.sk-dashed-wrapped {border: 1px dashed gray;margin: 0 0.4em 0.5em 0.4em;box-sizing: border-box;padding-bottom: 0.4em;background-color: white;}#sk-container-id-1 div.sk-label label {font-family: monospace;font-weight: bold;display: inline-block;line-height: 1.2em;}#sk-container-id-1 div.sk-label-container {text-align: center;}#sk-container-id-1 div.sk-container {/* jupyter's `normalize.less` sets `[hidden] { display: none; }` but bootstrap.min.css set `[hidden] { display: none !important; }` so we also need the `!important` here to be able to override the default hidden behavior on the sphinx rendered scikit-learn.org. See: https://github.com/scikit-learn/scikit-learn/issues/21755 */display: inline-block !important;position: relative;}#sk-container-id-1 div.sk-text-repr-fallback {display: none;}</style><div id=\"sk-container-id-1\" class=\"sk-top-container\"><div class=\"sk-text-repr-fallback\"><pre>RandomForestRegressor()</pre><b>In a Jupyter environment, please rerun this cell to show the HTML representation or trust the notebook. <br />On GitHub, the HTML representation is unable to render, please try loading this page with nbviewer.org.</b></div><div class=\"sk-container\" hidden><div class=\"sk-item\"><div class=\"sk-estimator sk-toggleable\"><input class=\"sk-toggleable__control sk-hidden--visually\" id=\"sk-estimator-id-1\" type=\"checkbox\" checked><label for=\"sk-estimator-id-1\" class=\"sk-toggleable__label sk-toggleable__label-arrow\">RandomForestRegressor</label><div class=\"sk-toggleable__content\"><pre>RandomForestRegressor()</pre></div></div></div></div></div>"
            ]
          },
          "metadata": {},
          "execution_count": 24
        }
      ]
    },
    {
      "cell_type": "code",
      "source": [
        "#prediction on test data\n",
        "test_data_prediction = model.predict(X_test)"
      ],
      "metadata": {
        "id": "xdzuBGlsIv1o"
      },
      "execution_count": 25,
      "outputs": []
    },
    {
      "cell_type": "code",
      "source": [
        "print(test_data_prediction)"
      ],
      "metadata": {
        "id": "6DWWNYfxI3Uv",
        "colab": {
          "base_uri": "https://localhost:8080/"
        },
        "outputId": "925f7688-612e-4025-8121-763fa6b2c3da"
      },
      "execution_count": 26,
      "outputs": [
        {
          "output_type": "stream",
          "name": "stdout",
          "text": [
            "[ 76.   121.79  89.11  37.59  65.69 206.56  55.39  55.24  50.16  78.55\n",
            "  62.41 129.66  62.7  106.24 130.43  51.95 139.65  77.52  57.2   66.93\n",
            "  51.94  52.18 178.78  48.91  73.83  82.98 121.51  62.79  61.02  51.46\n",
            "  65.59  48.83 111.46  83.51  47.47 178.59  62.51  84.46 155.47  34.95\n",
            "  58.98  82.1   52.71  60.58  92.4  134.6   75.99  48.73  49.21  94.46\n",
            "  58.98  53.35  53.63  33.02  59.22  37.01  60.22 170.75  55.87  48.84\n",
            " 156.82 115.08 226.95  61.73  76.15  81.46 156.89  88.87 129.42 133.5\n",
            "  62.42  57.35  52.23 104.41 143.09  78.22 140.79  81.97 187.01  77.95\n",
            "  53.59  50.27  38.66 171.12  34.17  61.5   87.61  64.28  65.97  62.17\n",
            "  78.13  66.78  41.86  64.53  79.53  92.05 104.12 168.95  36.34  47.63\n",
            "  76.93 170.57  57.32  46.13 124.55  92.41  45.67  79.57  72.81  88.43\n",
            "  48.49 120.58  57.74  50.33 146.38  72.92 116.16  48.18 104.66 104.22\n",
            " 104.    79.61  44.36  66.5  198.31  41.35  60.76 118.55  43.81  57.56\n",
            " 123.51 104.91  63.79  55.02  51.67 123.74  77.14 132.33  65.9   44.5\n",
            "  95.71  67.24  56.61  42.47 150.02  55.55 243.88 118.29  42.48  28.82\n",
            "  65.21 112.75 105.46  64.43  54.15  64.07  44.97  45.6  187.07  46.85\n",
            "  82.21 186.88  55.14 234.42  78.82  50.98 108.48 190.46  48.91  56.82\n",
            " 161.71 167.94  52.98  64.09  59.01 107.38  62.5   52.68  73.26  64.48\n",
            "  67.53  45.91  77.72  64.75  54.92 159.68  75.4   38.85  93.25 231.14\n",
            "  49.49  81.66 171.91 182.98 155.7  121.64  54.63  48.77 245.7  121.02\n",
            "  73.91  45.67  62.75  55.65  96.78 175.68  46.41  41.23  54.89  53.4\n",
            "  90.81  35.94 193.95 111.04  50.32 143.    61.68 218.67 107.38  90.51\n",
            "  45.68 192.84  61.12  51.68  78.22  82.98  40.39 163.    63.83  79.36\n",
            "  54.85  96.6  180.84  80.29 113.4   80.92 199.23 197.71  56.8  117.73\n",
            "  82.94  98.67  54.86  60.52  59.98  76.04  66.22  63.34 149.8  175.68\n",
            "  65.29  65.82  87.41 132.61  50.43  41.57  57.9   61.    90.41  80.08\n",
            " 117.32  57.85 186.31  45.65  66.68 145.67  57.73  65.28  79.14  28.54\n",
            "  40.42 142.56  35.43 118.7   46.07  80.57  85.56  60.28  80.12  35.14\n",
            " 135.03  61.3   66.03  47.95  85.18 100.17  84.63  91.92  54.27  35.84\n",
            " 143.63 138.77  49.6   84.88  84.11  61.8   59.74 125.09 111.24 129.04\n",
            "  61.41 216.3   29.08  62.    64.23  51.61 224.7  171.09  49.16 191.07\n",
            " 180.86  57.87 149.72  79.33  37.28  77.51  65.73 131.03  47.2  126.57\n",
            " 182.11  54.21  79.04 149.   101.44 121.02  75.42  42.24 181.21  56.72\n",
            " 185.86  51.67  97.71 215.55  48.75 214.24 142.83  78.03  66.38  94.96\n",
            "  44.96 152.1  144.94 172.58  46.7  182.7  106.39  63.38 207.88  36.94\n",
            "  40.36  63.97 206.07  94.26  53.32 180.3   62.8   85.38  53.78  51.17\n",
            "  65.07  59.41  59.83  74.22  57.9   40.74 112.14  49.39  53.78 152.79\n",
            " 173.04  90.53  74.2  119.47  44.96 196.01 129.69  64.41 167.1   61.37\n",
            "  74.9   51.44 189.38  62.07  61.17  62.02  48.78  89.82  53.06 151.41\n",
            "  40.94  63.96  56.73  58.15 212.38  78.54 122.93 141.04 110.92  57.33\n",
            "  66.43 129.51 196.34  61.99 157.08  27.5   57.3  147.56  47.74  54.94\n",
            "  80.96  61.84 165.77  64.72 114.58  85.27  78.41  46.56  44.78  80.68\n",
            "  94.05  92.68  80.29  61.69  29.1   79.18  42.8  186.16 139.79  89.29\n",
            "  63.48  58.27  44.49  42.35  60.61 137.78  58.43  63.09 213.9   54.6\n",
            "  47.13 199.88  62.1  188.83  54.01  47.85  54.   107.56  50.31  62.63\n",
            "  55.11  90.22 154.18  75.74 179.27 130.21  34.56 170.38  43.65  58.92\n",
            "  66.51 147.79  61.61  51.73 101.58  62.05  50.17 106.07 107.75  84.79\n",
            "  87.74  54.94  77.13  61.96 202.13  56.83  49.24  42.15 176.83 165.4\n",
            "  50.8   62.94  54.06  58.83 127.87  79.61  98.5  170.51 198.45 198.64\n",
            " 204.16  64.97  91.95  62.3   59.73 186.13  57.2  141.94  59.01 145.56\n",
            " 142.58  66.09  75.69 126.08  37.42  66.22  48.17  91.9  144.57 191.18\n",
            " 113.51  65.63 132.8  184.15 114.35 178.63  61.66 148.23 114.12 151.29\n",
            "  60.52 130.81  65.69 105.32  66.82  64.44  37.68 185.9   63.22  65.11\n",
            "  63.55 180.19  63.45  62.8   54.24  88.33  76.75  55.2   59.56 140.09\n",
            "  42.94 106.71 154.39 121.41  56.75  81.7   62.57  82.9   56.49  64.9\n",
            " 177.67 170.24  64.83  46.32  53.58  75.45 101.34  79.72  41.72  58.29\n",
            "  65.25  61.72 110.14  49.42 218.62 145.9  106.92  62.57 137.85 170.52\n",
            "  79.59  60.9  179.32  58.69  96.39 102.72  66.05  38.25  52.71 140.73\n",
            "  55.31  49.94  49.58 168.92 126.58  57.15  58.    51.48  60.95  98.68\n",
            "  76.58  44.45  84.96 143.89 169.16  60.3   73.96 187.33  62.97  60.14\n",
            "  66.01 126.84 186.55  63.01  51.48 163.1  180.82  37.87 124.52  21.27\n",
            "  57.41  62.42  56.38 187.76  58.2   54.92 157.87 205.6   61.75 164.91\n",
            "  55.63 125.53  45.34  61.33  62.87  82.47 171.65  92.91 143.04  95.45\n",
            "  44.59 114.33  40.42 130.97 219.41  53.56  79.78 162.56 103.14  54.76\n",
            " 164.94  46.09  65.8   33.15  56.86  81.29 231.31 137.08  89.26  57.9\n",
            "  50.52  63.94  60.13 157.07 203.26  46.68 107.21  60.18 102.42 104.67\n",
            " 122.67  75.16 231.43  56.3  143.12  52.48  60.19  42.96  59.37 138.54\n",
            "  44.09 168.03  49.71 100.74 126.54  55.16 150.14 132.74  37.78 109.23\n",
            " 171.74  89.6   38.67  79.03  63.46  45.11 125.47 193.64  56.16  77.3\n",
            " 194.7  128.6   39.69  94.17  34.09 121.67  64.96 117.95  81.28  46.41\n",
            "  46.14 177.06  48.11 115.94  58.7  112.54 167.87  47.42 145.47  41.74\n",
            "  64.08  38.78 111.55 157.85  62.84  75.13  53.37 159.14  62.15  54.97\n",
            "  43.19  44.84  62.28 103.55  58.77 176.55  54.5   77.74  61.98  90.34\n",
            " 143.12 161.92  76.58 103.45  84.27  62.96 149.39  62.34  40.25  35.27\n",
            "  64.23  57.66 121.64 156.23  49.24 187.99  73.5   97.4  126.91 226.49\n",
            " 178.16 157.48  60.25 132.17  47.68  47.8   51.5   90.29 153.44  63.03\n",
            "  47.1   52.37  94.53 116.5   60.21  63.85 119.74  61.01 148.74 149.18\n",
            " 146.83  42.61 129.01  75.66  50.82  78.91 103.68 166.97  79.58  94.29\n",
            " 225.23  88.62  93.31  87.03  80.55  38.55  27.86  41.73  99.72 110.7\n",
            " 139.47 160.75 135.4   94.79  43.73  59.01 235.55  60.31  61.8   50.59\n",
            " 171.82  63.87  80.72 180.89 172.49  60.02  62.17 254.98  49.21 121.26\n",
            "  46.71  50.1   48.44 257.59  58.44 126.08  54.34  74.85  57.11 161.59\n",
            "  52.82 117.2  123.19  72.9   76.57  42.41  93.52 162.77 129.91  99.93\n",
            " 149.13  66.93  44.56  59.18  73.19 207.82 201.6  154.85 142.58  77.43\n",
            " 220.07  98.47 191.87 186.72  38.98  46.4  154.4   43.9   61.9   79.11\n",
            "  44.85 175.14  49.14  56.69  49.8   62.89  45.46  73.82  48.75 117.72\n",
            " 111.07 157.12  48.51  46.84]\n"
          ]
        }
      ]
    },
    {
      "cell_type": "code",
      "source": [
        "#mean absolute error\n",
        "mae= metrics.mean_absolute_error(Y_test, test_data_prediction)\n",
        "print(\"Mean Absolute Error = \", mae)"
      ],
      "metadata": {
        "colab": {
          "base_uri": "https://localhost:8080/"
        },
        "id": "S4Juz2MKI5-H",
        "outputId": "8be5b160-4194-4145-ef7a-2f9502704323"
      },
      "execution_count": 27,
      "outputs": [
        {
          "output_type": "stream",
          "name": "stdout",
          "text": [
            "Mean Absolute Error =  2.907430555555555\n"
          ]
        }
      ]
    },
    {
      "cell_type": "code",
      "source": [
        "import pickle\n",
        "pickle.dump(model,open('/content/drive/MyDrive/Final Dissertation Project/Calories.pkl', 'wb'))"
      ],
      "metadata": {
        "id": "W-joYsVetz7x"
      },
      "execution_count": 29,
      "outputs": []
    }
  ]
}